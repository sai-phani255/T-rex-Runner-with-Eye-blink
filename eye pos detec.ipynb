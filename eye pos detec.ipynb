{
 "cells": [
  {
   "cell_type": "code",
   "execution_count": 1,
   "metadata": {},
   "outputs": [],
   "source": [
    "import cv2\n",
    "import numpy as np\n",
    "import dlib\n",
    "from math import hypot\n",
    "import pyautogui"
   ]
  },
  {
   "cell_type": "code",
   "execution_count": 2,
   "metadata": {},
   "outputs": [],
   "source": [
    "detector=dlib.get_frontal_face_detector()\n",
    "predictor=dlib.shape_predictor(\"shape_predictor_68_face_landmarks.dat\")\n",
    "\n",
    "font=cv2.FONT_HERSHEY_SIMPLEX"
   ]
  },
  {
   "cell_type": "code",
   "execution_count": 3,
   "metadata": {},
   "outputs": [],
   "source": [
    "def midpoint(p1 ,p2):\n",
    "    return int((p1.x + p2.x)/2), int((p1.y + p2.y)/2)"
   ]
  },
  {
   "cell_type": "code",
   "execution_count": 4,
   "metadata": {},
   "outputs": [],
   "source": [
    "def get_blinking_ratio(eye_points,facial_landmarks):\n",
    "        left_point=(facial_landmarks.part(eye_points[0]).x,facial_landmarks.part(eye_points[0]).y)\n",
    "        right_point=(facial_landmarks.part(eye_points[3]).x,facial_landmarks.part(eye_points[3]).y)\n",
    "        center_top=midpoint(facial_landmarks.part(eye_points[1]),facial_landmarks.part(eye_points[2]))\n",
    "        center_bottom=midpoint(facial_landmarks.part(eye_points[5]),facial_landmarks.part(eye_points[4]))\n",
    "        \n",
    "        #hor_line=cv2.line(frame,left_point,right_point,(0,255,0),2)\n",
    "        #ver_line=cv2.line(frame,center_top,center_bottom,(0,255,0),2)\n",
    "        \n",
    "        hor_line_lenght=hypot((left_point[0]-right_point[0]),(left_point[1]-right_point[1]))  # length using euclidean distance\n",
    "        ver_line_lenght=hypot((center_top[0]-center_bottom[0]),(center_top[1]-center_bottom[1]))\n",
    "        \n",
    "        ratio=hor_line_lenght/ver_line_lenght\n",
    "        \n",
    "        return ratio\n"
   ]
  },
  {
   "cell_type": "code",
   "execution_count": 5,
   "metadata": {},
   "outputs": [],
   "source": [
    "def get_gaze_ratio(eye_points,facial_landmarks):\n",
    "        left_eye_region=np.array([(facial_landmarks.part(eye_points[0]).x,facial_landmarks.part(eye_points[0]).y),\n",
    "                                   (facial_landmarks.part(eye_points[1]).x,facial_landmarks.part(eye_points[1]).y),\n",
    "                                   (facial_landmarks.part(eye_points[2]).x,facial_landmarks.part(eye_points[2]).y),\n",
    "                                   (facial_landmarks.part(eye_points[3]).x,facial_landmarks.part(eye_points[3]).y),\n",
    "                                   (facial_landmarks.part(eye_points[4]).x,facial_landmarks.part(eye_points[4]).y),\n",
    "                                   (facial_landmarks.part(eye_points[5]).x,facial_landmarks.part(eye_points[5]).y)],np.int32)\n",
    "        \n",
    "        #cv2.polylines(frame,[left_eye_region],True,(0,0,255),2)\n",
    "\n",
    "        \n",
    "        height,width,_=frame.shape\n",
    "        mask = np.zeros((height,width),np.uint8)\n",
    "        \n",
    "        #cv2.polylines(frame,[left_eye_region],True,255,2)\n",
    "        cv2.fillPoly(mask,[left_eye_region],255)  \n",
    "        left_eye=cv2.bitwise_and(gray,gray,mask=mask)\n",
    "        \n",
    "        min_x=np.min(left_eye_region[:,0])\n",
    "        max_x=np.max(left_eye_region[:,0])\n",
    "\n",
    "        min_y=np.min(left_eye_region[:,1])\n",
    "        max_y=np.max(left_eye_region[:,1])\n",
    "        \n",
    "        gray_eye=left_eye[min_y:max_y,min_x:max_x]\n",
    "        _ , threshold_eye=cv2.threshold(gray_eye,70,255,cv2.THRESH_BINARY_INV)\n",
    "        \n",
    "        \n",
    "        heigth,width=threshold_eye.shape\n",
    "        \n",
    "        left_side_threshold=threshold_eye[0:height,0:int(width/2)]\n",
    "        left_side_white=cv2.countNonZero(left_side_threshold)\n",
    "        \n",
    "        right_side_threshold=threshold_eye[0:height,int(width/2):width]\n",
    "        right_side_white=cv2.countNonZero(right_side_threshold)\n",
    "        \n",
    "        gaze_ratio=left_side_white/right_side_white\n",
    "        \n",
    "        return gaze_ratio"
   ]
  },
  {
   "cell_type": "code",
   "execution_count": 6,
   "metadata": {},
   "outputs": [],
   "source": [
    "cap=cv2.VideoCapture(0)\n",
    "while True:\n",
    "    _,frame=cap.read()\n",
    "    gray=cv2.cvtColor(frame,cv2.COLOR_BGR2GRAY)\n",
    "    \n",
    "    faces=detector(gray)\n",
    "    for face in faces:\n",
    "        \n",
    "        landmarks=predictor(gray,face)\n",
    "        \n",
    "        #Detect blinking\n",
    "        \n",
    "        left_eye_ratio = get_blinking_ratio([36, 37, 38, 39, 40, 41], landmarks)\n",
    "        right_eye_ratio = get_blinking_ratio([42, 43, 44, 45, 46, 47], landmarks)\n",
    "        blinking_ratio = (left_eye_ratio + right_eye_ratio) / 2\n",
    "        \n",
    "        if blinking_ratio>4.4:\n",
    "            cv2.putText(frame,\"Blinking\",(100,150),font,2,(255,0,0),2)\n",
    "        \n",
    "        #Gaze Detection\n",
    "        \n",
    "        gaze_ratio_left_eye=get_gaze_ratio([36, 37, 38, 39, 40, 41], landmarks)\n",
    "        gaze_ratio_right_eye=get_gaze_ratio([42, 43, 44, 45, 46, 47], landmarks)\n",
    "        gaze_ratio=(gaze_ratio_right_eye + gaze_ratio_left_eye)\n",
    "        \n",
    "        #print(gaze_ratio)\n",
    "        cv2.putText(frame,str(gaze_ratio),(10,150),font,1,(0,0,255),2)\n",
    "        \n",
    "        if gaze_ratio < 1.8:\n",
    "            cv2.putText(frame,str(\"Left\"),(10,100),font,1,(0,0,255),2)\n",
    "            #pyautogui.press('left')\n",
    "        elif 1.8 < gaze_ratio < 2:\n",
    "            cv2.putText(frame,str(\"Center\"),(10,100),font,1,(0,0,255),2)\n",
    "        else:\n",
    "            cv2.putText(frame,str(\"Right\"),(10,100),font,1,(0,0,255),2)\n",
    "            #pyautogui.press('right')\n",
    "        \n",
    "    cv2.imshow(\"Frame\",frame)\n",
    "\n",
    "    if cv2.waitKey(1) == ord('s'):\n",
    "        break \n",
    "cap.release()\n",
    "cv2.destroyAllWindows()"
   ]
  },
  {
   "cell_type": "code",
   "execution_count": null,
   "metadata": {},
   "outputs": [],
   "source": []
  },
  {
   "cell_type": "code",
   "execution_count": null,
   "metadata": {},
   "outputs": [],
   "source": []
  }
 ],
 "metadata": {
  "kernelspec": {
   "display_name": "Python 3",
   "language": "python",
   "name": "python3"
  },
  "language_info": {
   "codemirror_mode": {
    "name": "ipython",
    "version": 3
   },
   "file_extension": ".py",
   "mimetype": "text/x-python",
   "name": "python",
   "nbconvert_exporter": "python",
   "pygments_lexer": "ipython3",
   "version": "3.7.3"
  }
 },
 "nbformat": 4,
 "nbformat_minor": 2
}
